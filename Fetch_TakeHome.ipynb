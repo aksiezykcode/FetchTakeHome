{
 "cells": [
  {
   "cell_type": "code",
   "execution_count": 189,
   "id": "a7214e01-7009-4b2b-b904-1669b7c5b857",
   "metadata": {},
   "outputs": [],
   "source": [
    "## I prefer to use Python and Excel in the intial stages of an analysis as there are many ways to check\n",
    "## the quality of the data, and are often easier/more accurate compared to other methods. In this first \n",
    "## section I'm installing pandas and numpy to be able to load in the CSV data and perform tests to\n",
    "## gauge its quality, and get an understanding of the variables and data scructure. "
   ]
  },
  {
   "cell_type": "code",
   "execution_count": 368,
   "id": "8ebae3bb-ac19-4a6b-8d21-21c4c75c5c34",
   "metadata": {},
   "outputs": [],
   "source": [
    "import pandas as pd\n",
    "import numpy as np"
   ]
  },
  {
   "cell_type": "code",
   "execution_count": 369,
   "id": "785f5f7b-0172-418a-9b7c-1aef7546a06f",
   "metadata": {},
   "outputs": [],
   "source": [
    "p = pd.read_csv(r'C:\\Users\\grace\\Downloads\\Fetch_TakeHome\\PRODUCTS_TAKEHOME.csv')\n",
    "t = pd.read_csv(r'C:\\Users\\grace\\Downloads\\Fetch_TakeHome\\TRANSACTION_TAKEHOME.csv')\n",
    "u = pd.read_csv(r'C:\\Users\\grace\\Downloads\\Fetch_TakeHome\\USER_TAKEHOME.csv')"
   ]
  },
  {
   "cell_type": "code",
   "execution_count": 370,
   "id": "a46f32f0-14d5-4e0b-9c9b-24afb4e01fda",
   "metadata": {},
   "outputs": [],
   "source": [
    "## Viewing the dataframes coming from the CSV files at a high level."
   ]
  },
  {
   "cell_type": "code",
   "execution_count": 371,
   "id": "79fc0322-0fb2-4b9b-8bb4-4521d45c7f3d",
   "metadata": {},
   "outputs": [
    {
     "name": "stdout",
     "output_type": "stream",
     "text": [
      "<class 'pandas.core.frame.DataFrame'>\n",
      "RangeIndex: 845552 entries, 0 to 845551\n",
      "Data columns (total 7 columns):\n",
      " #   Column        Non-Null Count   Dtype  \n",
      "---  ------        --------------   -----  \n",
      " 0   CATEGORY_1    845441 non-null  object \n",
      " 1   CATEGORY_2    844128 non-null  object \n",
      " 2   CATEGORY_3    784986 non-null  object \n",
      " 3   CATEGORY_4    67459 non-null   object \n",
      " 4   MANUFACTURER  619078 non-null  object \n",
      " 5   BRAND         619080 non-null  object \n",
      " 6   BARCODE       841527 non-null  float64\n",
      "dtypes: float64(1), object(6)\n",
      "memory usage: 45.2+ MB\n"
     ]
    }
   ],
   "source": [
    "p.info()"
   ]
  },
  {
   "cell_type": "code",
   "execution_count": 372,
   "id": "53ba5653-1b46-4044-a797-1df2f17f06d7",
   "metadata": {},
   "outputs": [
    {
     "name": "stdout",
     "output_type": "stream",
     "text": [
      "<class 'pandas.core.frame.DataFrame'>\n",
      "RangeIndex: 50000 entries, 0 to 49999\n",
      "Data columns (total 8 columns):\n",
      " #   Column          Non-Null Count  Dtype  \n",
      "---  ------          --------------  -----  \n",
      " 0   RECEIPT_ID      50000 non-null  object \n",
      " 1   PURCHASE_DATE   50000 non-null  object \n",
      " 2   SCAN_DATE       50000 non-null  object \n",
      " 3   STORE_NAME      50000 non-null  object \n",
      " 4   USER_ID         50000 non-null  object \n",
      " 5   BARCODE         44238 non-null  float64\n",
      " 6   FINAL_QUANTITY  50000 non-null  object \n",
      " 7   FINAL_SALE      50000 non-null  object \n",
      "dtypes: float64(1), object(7)\n",
      "memory usage: 3.1+ MB\n"
     ]
    }
   ],
   "source": [
    "t.info()"
   ]
  },
  {
   "cell_type": "code",
   "execution_count": 373,
   "id": "06d8f06e-63f7-4cee-a21e-f53810d2b2a5",
   "metadata": {
    "scrolled": true
   },
   "outputs": [
    {
     "name": "stdout",
     "output_type": "stream",
     "text": [
      "<class 'pandas.core.frame.DataFrame'>\n",
      "RangeIndex: 100000 entries, 0 to 99999\n",
      "Data columns (total 6 columns):\n",
      " #   Column        Non-Null Count   Dtype \n",
      "---  ------        --------------   ----- \n",
      " 0   ID            100000 non-null  object\n",
      " 1   CREATED_DATE  100000 non-null  object\n",
      " 2   BIRTH_DATE    96325 non-null   object\n",
      " 3   STATE         95188 non-null   object\n",
      " 4   LANGUAGE      69492 non-null   object\n",
      " 5   GENDER        94108 non-null   object\n",
      "dtypes: object(6)\n",
      "memory usage: 4.6+ MB\n"
     ]
    }
   ],
   "source": [
    "u.info()"
   ]
  },
  {
   "cell_type": "code",
   "execution_count": 374,
   "id": "38c22f46-5274-4021-8d13-3a0af835885b",
   "metadata": {},
   "outputs": [],
   "source": [
    "## Now I will check to see the number of missing values by column across the three dataframes."
   ]
  },
  {
   "cell_type": "code",
   "execution_count": 375,
   "id": "80cbe743-721a-40c0-a66c-a4577e2d33d6",
   "metadata": {},
   "outputs": [
    {
     "data": {
      "text/plain": [
       "CATEGORY_1         111\n",
       "CATEGORY_2        1424\n",
       "CATEGORY_3       60566\n",
       "CATEGORY_4      778093\n",
       "MANUFACTURER    226474\n",
       "BRAND           226472\n",
       "BARCODE           4025\n",
       "dtype: int64"
      ]
     },
     "execution_count": 375,
     "metadata": {},
     "output_type": "execute_result"
    }
   ],
   "source": [
    "p.isnull().sum()"
   ]
  },
  {
   "cell_type": "code",
   "execution_count": 376,
   "id": "fb2e31a0-1afc-489a-a818-899088969a6e",
   "metadata": {},
   "outputs": [
    {
     "data": {
      "text/plain": [
       "RECEIPT_ID           0\n",
       "PURCHASE_DATE        0\n",
       "SCAN_DATE            0\n",
       "STORE_NAME           0\n",
       "USER_ID              0\n",
       "BARCODE           5762\n",
       "FINAL_QUANTITY       0\n",
       "FINAL_SALE           0\n",
       "dtype: int64"
      ]
     },
     "execution_count": 376,
     "metadata": {},
     "output_type": "execute_result"
    }
   ],
   "source": [
    "t.isnull().sum()"
   ]
  },
  {
   "cell_type": "code",
   "execution_count": 377,
   "id": "9ff2ad51-b571-4f37-a02c-e8ff3ee775e6",
   "metadata": {
    "scrolled": true
   },
   "outputs": [
    {
     "data": {
      "text/plain": [
       "ID                  0\n",
       "CREATED_DATE        0\n",
       "BIRTH_DATE       3675\n",
       "STATE            4812\n",
       "LANGUAGE        30508\n",
       "GENDER           5892\n",
       "dtype: int64"
      ]
     },
     "execution_count": 377,
     "metadata": {},
     "output_type": "execute_result"
    }
   ],
   "source": [
    "u.isnull().sum()"
   ]
  },
  {
   "cell_type": "code",
   "execution_count": 378,
   "id": "656b45e0-ba2b-41cd-aa8b-4297c8a06e00",
   "metadata": {},
   "outputs": [],
   "source": [
    "## After visually checking the Excel files, I noticed the \"FINAL_SALE\" column had many blank cells, but the python code \n",
    "## shows that there are 0 nulls there. It appears that the cells have a blank space (' '), which represents no value, \n",
    "## but does not show up as null as the cell is technically not empty. I will impute a null value for these instances,\n",
    "## across all the dataframes in case this occurs elsewhere."
   ]
  },
  {
   "cell_type": "code",
   "execution_count": 379,
   "id": "3068df00-7c89-466a-b17d-257a41b26624",
   "metadata": {},
   "outputs": [],
   "source": [
    "t.replace(' ', np.nan, inplace=True)"
   ]
  },
  {
   "cell_type": "code",
   "execution_count": 380,
   "id": "94a2bd73-c5cf-47ea-8a1b-f006cc9eedb9",
   "metadata": {},
   "outputs": [],
   "source": [
    "p.replace(' ', np.nan, inplace=True)\n",
    "u.replace(' ', np.nan, inplace=True)"
   ]
  },
  {
   "cell_type": "code",
   "execution_count": 381,
   "id": "2d32cade-1ccd-4612-9980-49295ee4b077",
   "metadata": {
    "scrolled": true
   },
   "outputs": [
    {
     "data": {
      "text/plain": [
       "RECEIPT_ID            0\n",
       "PURCHASE_DATE         0\n",
       "SCAN_DATE             0\n",
       "STORE_NAME            0\n",
       "USER_ID               0\n",
       "BARCODE            5762\n",
       "FINAL_QUANTITY        0\n",
       "FINAL_SALE        12500\n",
       "dtype: int64"
      ]
     },
     "execution_count": 381,
     "metadata": {},
     "output_type": "execute_result"
    }
   ],
   "source": [
    "## Checking to see if the blank spaces are now kept as nulls.\n",
    "t.isnull().sum()"
   ]
  },
  {
   "cell_type": "code",
   "execution_count": 382,
   "id": "5ee1e137-7f69-475d-8815-69c4370b0e67",
   "metadata": {},
   "outputs": [],
   "source": [
    "## It worked! The nulls are recognized, now I'll check the other dataframes."
   ]
  },
  {
   "cell_type": "code",
   "execution_count": 383,
   "id": "3dae0fb1-5c79-48c7-ac2b-384b232ff523",
   "metadata": {},
   "outputs": [
    {
     "data": {
      "text/plain": [
       "CATEGORY_1         111\n",
       "CATEGORY_2        1424\n",
       "CATEGORY_3       60566\n",
       "CATEGORY_4      778093\n",
       "MANUFACTURER    226474\n",
       "BRAND           226472\n",
       "BARCODE           4025\n",
       "dtype: int64"
      ]
     },
     "execution_count": 383,
     "metadata": {},
     "output_type": "execute_result"
    }
   ],
   "source": [
    "p.isnull().sum()"
   ]
  },
  {
   "cell_type": "code",
   "execution_count": 384,
   "id": "3c85d2b4-3c65-4b8e-aea0-a4d6284a7944",
   "metadata": {},
   "outputs": [
    {
     "data": {
      "text/plain": [
       "ID                  0\n",
       "CREATED_DATE        0\n",
       "BIRTH_DATE       3675\n",
       "STATE            4812\n",
       "LANGUAGE        30508\n",
       "GENDER           5892\n",
       "dtype: int64"
      ]
     },
     "execution_count": 384,
     "metadata": {},
     "output_type": "execute_result"
    }
   ],
   "source": [
    "u.isnull().sum()"
   ]
  },
  {
   "cell_type": "code",
   "execution_count": 385,
   "id": "34aac70c-fbb9-4a6c-adf4-f5c771229f79",
   "metadata": {},
   "outputs": [],
   "source": [
    "## The product and user dataframes did not have issues with blank spaces. "
   ]
  },
  {
   "cell_type": "code",
   "execution_count": 393,
   "id": "ee922e4e-d39d-45a6-9694-6c1fb1aeba29",
   "metadata": {},
   "outputs": [],
   "source": [
    "## Removing observations with missing FINAL_SALE values.  \n",
    "t = t.dropna(subset=['FINAL_SALE'])"
   ]
  },
  {
   "cell_type": "code",
   "execution_count": 395,
   "id": "693a052d-0fb7-49e1-99b0-35e172aeaf2f",
   "metadata": {},
   "outputs": [
    {
     "data": {
      "text/plain": [
       "np.int64(0)"
      ]
     },
     "execution_count": 395,
     "metadata": {},
     "output_type": "execute_result"
    }
   ],
   "source": [
    "t['FINAL_SALE'].isnull().sum()"
   ]
  },
  {
   "cell_type": "code",
   "execution_count": 396,
   "id": "31717e9d-2718-4c97-ab58-e46e479c912f",
   "metadata": {},
   "outputs": [],
   "source": [
    "## Another data quality issue is also in the Transactions table in the \"FINAL_QUANTITY\" column. Some of the values are \n",
    "## stored as a numeral (1), but the zero values are stored as text (zero). Since it is only zero this is happening to, \n",
    "## I will change \"zero\" to \"0\". However if there were more occurances I would not manually change each instance and \n",
    "## rather perform an action on the entire column. "
   ]
  },
  {
   "cell_type": "code",
   "execution_count": 397,
   "id": "954c311c-1252-466c-911b-aca9ca9825bf",
   "metadata": {},
   "outputs": [],
   "source": [
    "t['FINAL_QUANTITY'] = t['FINAL_QUANTITY'].replace('zero',0)"
   ]
  },
  {
   "cell_type": "code",
   "execution_count": 398,
   "id": "e7f31b3c-4e7a-4e37-9018-daafea7d5f46",
   "metadata": {},
   "outputs": [
    {
     "data": {
      "text/plain": [
       "array([0, '1.00', '2.00', '6.00', '3.00', '4.00', '5.00', '7.00', '12.00',\n",
       "       '0.87', '0.62', '2.10', '0.09', '3.33', '1.24', '18.00', '10.00',\n",
       "       '2.54', '0.53', '2.20', '1.69', '1.93', '2.89', '1.34', '1.13',\n",
       "       '8.00', '2.19', '0.83', '0.46', '4.55', '0.65', '2.61', '0.28',\n",
       "       '1.50', '0.97', '0.23', '0.24', '1.18', '0.86', '6.22', '1.22',\n",
       "       '1.23', '1.28', '2.57', '1.07', '2.75', '1.47', '2.11', '16.00',\n",
       "       '1.81', '0.48', '1.35', '2.17', '9.00', '3.11', '1.08', '5.53',\n",
       "       '1.89', '0.01', '2.18', '1.99', '0.04', '276.00', '2.25', '1.37',\n",
       "       '3.02', '2.58', '0.35', '0.99', '1.80', '1.54', '3.24', '2.39',\n",
       "       '2.60', '2.83', '2.93', '0.51', '0.94', '2.04', '1.40', '1.44',\n",
       "       '1.88', '2.34', '3.69', '0.70', '2.52', '2.27'], dtype=object)"
      ]
     },
     "execution_count": 398,
     "metadata": {},
     "output_type": "execute_result"
    }
   ],
   "source": [
    "t['FINAL_QUANTITY'].unique()"
   ]
  },
  {
   "cell_type": "code",
   "execution_count": 399,
   "id": "f282a84b-e8e9-4bce-80b9-0bf32df7192c",
   "metadata": {},
   "outputs": [],
   "source": [
    "## Similar to the missing values, I'll check for duplicate rows."
   ]
  },
  {
   "cell_type": "code",
   "execution_count": 400,
   "id": "bab325d3-bc8a-4e88-b46a-1778e77da0c7",
   "metadata": {},
   "outputs": [
    {
     "data": {
      "text/plain": [
       "np.int64(215)"
      ]
     },
     "execution_count": 400,
     "metadata": {},
     "output_type": "execute_result"
    }
   ],
   "source": [
    "p.duplicated().sum()"
   ]
  },
  {
   "cell_type": "code",
   "execution_count": 401,
   "id": "f29f277e-49e0-45ce-9790-cef9da41fdf5",
   "metadata": {},
   "outputs": [
    {
     "data": {
      "text/plain": [
       "np.int64(157)"
      ]
     },
     "execution_count": 401,
     "metadata": {},
     "output_type": "execute_result"
    }
   ],
   "source": [
    "t.duplicated().sum()"
   ]
  },
  {
   "cell_type": "code",
   "execution_count": 402,
   "id": "8a035b7a-c621-4b78-8661-776c083c1a60",
   "metadata": {},
   "outputs": [
    {
     "data": {
      "text/plain": [
       "np.int64(0)"
      ]
     },
     "execution_count": 402,
     "metadata": {},
     "output_type": "execute_result"
    }
   ],
   "source": [
    "u.duplicated().sum()"
   ]
  },
  {
   "cell_type": "code",
   "execution_count": 403,
   "id": "0075bfc2-a03f-4d67-a2b4-5ad5dc5ae896",
   "metadata": {},
   "outputs": [],
   "source": [
    "## It is important to remove these duplicated rows for the product and transaction data. In some contexts duplicate rows \n",
    "## are not a bad thing, but for this analysis it does not make sense to leave them in. The products table only needs one\n",
    "## instance of each observation to be effective when referenced. The transactions table contains an observation for each\n",
    "## individual transaction with a unique recipt ID, so it wouldn't be useful to have multiples of the same exact purchase. "
   ]
  },
  {
   "cell_type": "code",
   "execution_count": 404,
   "id": "75753408-bc11-4000-969e-56c7e6678de0",
   "metadata": {},
   "outputs": [],
   "source": [
    "p = p.drop_duplicates()\n",
    "t = t.drop_duplicates()"
   ]
  },
  {
   "cell_type": "code",
   "execution_count": 405,
   "id": "e66eaee5-a009-4804-9bb4-c801112a6110",
   "metadata": {},
   "outputs": [
    {
     "data": {
      "text/plain": [
       "np.int64(0)"
      ]
     },
     "execution_count": 405,
     "metadata": {},
     "output_type": "execute_result"
    }
   ],
   "source": [
    "p.duplicated().sum()"
   ]
  },
  {
   "cell_type": "code",
   "execution_count": 406,
   "id": "30eefe57-dace-4e2e-ab54-12e124f217ed",
   "metadata": {},
   "outputs": [
    {
     "data": {
      "text/plain": [
       "np.int64(0)"
      ]
     },
     "execution_count": 406,
     "metadata": {},
     "output_type": "execute_result"
    }
   ],
   "source": [
    "t.duplicated().sum()"
   ]
  },
  {
   "cell_type": "code",
   "execution_count": 407,
   "id": "b393683e-914b-479d-9ba6-3ab64a745528",
   "metadata": {},
   "outputs": [],
   "source": [
    "## There are now no duplicated rows in any of the dataframes."
   ]
  },
  {
   "cell_type": "code",
   "execution_count": 409,
   "id": "bd90d4db-8472-4b77-9167-a54523f63644",
   "metadata": {},
   "outputs": [
    {
     "data": {
      "text/plain": [
       "<Axes: xlabel='FINAL_QUANTITY', ylabel='Count'>"
      ]
     },
     "execution_count": 409,
     "metadata": {},
     "output_type": "execute_result"
    },
    {
     "data": {
      "image/png": "[encoded data removed]",
      "text/plain": [
       "<Figure size 640x480 with 1 Axes>"
      ]
     },
     "metadata": {},
     "output_type": "display_data"
    }
   ],
   "source": [
    "sns.histplot(t['FINAL_QUANTITY'], bins=5)"
   ]
  },
  {
   "cell_type": "code",
   "execution_count": 410,
   "id": "b6d0c63f-f4b7-4318-bdb8-6a44cd7a1399",
   "metadata": {},
   "outputs": [
    {
     "data": {
      "text/plain": [
       "<Axes: xlabel='FINAL_SALE', ylabel='Count'>"
      ]
     },
     "execution_count": 410,
     "metadata": {},
     "output_type": "execute_result"
    },
    {
     "data": {
      "image/png": "[encoded data removed]",
      "text/plain": [
       "<Figure size 640x480 with 1 Axes>"
      ]
     },
     "metadata": {},
     "output_type": "display_data"
    }
   ],
   "source": [
    "sns.histplot(t['FINAL_SALE'], bins=5)"
   ]
  },
  {
   "cell_type": "code",
   "execution_count": 412,
   "id": "fbba853d-6f53-48f6-93ee-561a0723ac9b",
   "metadata": {},
   "outputs": [],
   "source": [
    "## Based on these histograms, it appears there are some outliers. I need to remove these values. This won't be relevant \n",
    "## for all columns in the data, so I will only check those it pertains to. "
   ]
  },
  {
   "cell_type": "code",
   "execution_count": 413,
   "id": "94b25e61-7289-44d7-8222-93c63444db15",
   "metadata": {},
   "outputs": [
    {
     "data": {
      "text/plain": [
       "FINAL_QUANTITY\n",
       "<class 'str'>    24852\n",
       "<class 'int'>    12491\n",
       "Name: count, dtype: int64"
      ]
     },
     "execution_count": 413,
     "metadata": {},
     "output_type": "execute_result"
    }
   ],
   "source": [
    "t['FINAL_QUANTITY'].apply(type).value_counts()"
   ]
  },
  {
   "cell_type": "code",
   "execution_count": 414,
   "id": "254b38bf-a3b0-4c06-8baf-b31e6b4f2c3e",
   "metadata": {},
   "outputs": [],
   "source": [
    "## The values in the \"FINAL_QUANTITY\" column are not all the same data type, they are part integers and part strings. \n",
    "## Integer type is only for numbers that do NOT have a decimal (this data does), which is why some are stored as strings. \n",
    "## For this dataset, I'm making the assumption we want only whole values for the sales quantity. "
   ]
  },
  {
   "cell_type": "code",
   "execution_count": 415,
   "id": "fc46b552-04f9-42e3-9f03-019b334c7ac4",
   "metadata": {},
   "outputs": [],
   "source": [
    "t['FINAL_QUANTITY'] = t['FINAL_QUANTITY'].astype(float)"
   ]
  },
  {
   "cell_type": "code",
   "execution_count": 416,
   "id": "2e23cf51-17bf-44ef-bd17-a858dc4ffcdd",
   "metadata": {},
   "outputs": [],
   "source": [
    "t['FINAL_QUANTITY'] = t['FINAL_QUANTITY'].astype(int)"
   ]
  },
  {
   "cell_type": "code",
   "execution_count": 417,
   "id": "b08bfff5-9182-4e69-a0d9-32b28e927e34",
   "metadata": {},
   "outputs": [
    {
     "data": {
      "text/plain": [
       "array([  0,   1,   2,   6,   3,   4,   5,   7,  12,  18,  10,   8,  16,\n",
       "         9, 276])"
      ]
     },
     "execution_count": 417,
     "metadata": {},
     "output_type": "execute_result"
    }
   ],
   "source": [
    "t['FINAL_QUANTITY'].unique()"
   ]
  },
  {
   "cell_type": "code",
   "execution_count": 418,
   "id": "95025e6e-1184-43e4-8b76-1173a6c5e6aa",
   "metadata": {},
   "outputs": [],
   "source": [
    "## Using the IQR method with a multiplier of 2 (vs. 1.5) to determine the outliers.\n",
    "Q1 = t['FINAL_QUANTITY'].quantile(0.25)\n",
    "Q3 = t['FINAL_QUANTITY'].quantile(0.75)\n",
    "IQR = Q3 - Q1\n",
    "\n",
    "lower_bound = Q1 - 2 * IQR\n",
    "upper_bound = Q3 + 2 * IQR\n",
    "\n",
    "outliers = t[(t['FINAL_QUANTITY'] < lower_bound) | (t['FINAL_QUANTITY'] > upper_bound)]"
   ]
  },
  {
   "cell_type": "code",
   "execution_count": 419,
   "id": "d2c20138-ff5b-49e2-91ed-c4524d0c9c1e",
   "metadata": {},
   "outputs": [],
   "source": [
    "## Removing the outlier observations from the FINAL_QUANTITY data.\n",
    "t = t[~t.isin(outliers)].dropna()"
   ]
  },
  {
   "cell_type": "code",
   "execution_count": 420,
   "id": "69a87972-0518-4a9d-aa72-d408dc14284f",
   "metadata": {},
   "outputs": [
    {
     "data": {
      "text/plain": [
       "FINAL_SALE\n",
       "<class 'str'>    32924\n",
       "Name: count, dtype: int64"
      ]
     },
     "execution_count": 420,
     "metadata": {},
     "output_type": "execute_result"
    }
   ],
   "source": [
    "## Transactions with $0 arent useful for this analysis, so I will remove them.\n",
    "t['FINAL_SALE'].apply(type).value_counts()"
   ]
  },
  {
   "cell_type": "code",
   "execution_count": 421,
   "id": "1325c546-d514-4464-9dc1-700e35e7d826",
   "metadata": {},
   "outputs": [],
   "source": [
    "## FINAL_SALE should be a float rather than an integer because it can have non-whole number values. \n",
    "t['FINAL_SALE'] = t['FINAL_SALE'].astype(float)"
   ]
  },
  {
   "cell_type": "code",
   "execution_count": 422,
   "id": "8d760024-367b-4277-a0bb-2fe24c8bc691",
   "metadata": {},
   "outputs": [],
   "source": [
    "t = t[t['FINAL_SALE'] != 0.00]"
   ]
  },
  {
   "cell_type": "code",
   "execution_count": 423,
   "id": "3a98d0a3-698d-4c89-954e-8c1c670c7480",
   "metadata": {
    "collapsed": true,
    "jupyter": {
     "outputs_hidden": true
    }
   },
   "outputs": [
    {
     "data": {
      "text/plain": [
       "[0.03,\n",
       " 0.04,\n",
       " 0.04,\n",
       " 0.05,\n",
       " 0.05,\n",
       " 0.05,\n",
       " 0.05,\n",
       " 0.05,\n",
       " 0.05,\n",
       " 0.07,\n",
       " 0.09,\n",
       " 0.09,\n",
       " 0.1,\n",
       " 0.1,\n",
       " 0.12,\n",
       " 0.13,\n",
       " 0.13,\n",
       " 0.13,\n",
       " 0.14,\n",
       " 0.17,\n",
       " 0.17,\n",
       " 0.18,\n",
       " 0.18,\n",
       " 0.2,\n",
       " 0.2,\n",
       " 0.2,\n",
       " 0.2,\n",
       " 0.2,\n",
       " 0.2,\n",
       " 0.2,\n",
       " 0.25,\n",
       " 0.25,\n",
       " 0.25,\n",
       " 0.25,\n",
       " 0.25,\n",
       " 0.25,\n",
       " 0.25,\n",
       " 0.25,\n",
       " 0.25,\n",
       " 0.25,\n",
       " 0.25,\n",
       " 0.25,\n",
       " 0.25,\n",
       " 0.25,\n",
       " 0.25,\n",
       " 0.25,\n",
       " 0.29,\n",
       " 0.3,\n",
       " 0.3,\n",
       " 0.3,\n",
       " 0.3,\n",
       " 0.3,\n",
       " 0.3,\n",
       " 0.3,\n",
       " 0.3,\n",
       " 0.3,\n",
       " 0.3,\n",
       " 0.3,\n",
       " 0.3,\n",
       " 0.3,\n",
       " 0.3,\n",
       " 0.3,\n",
       " 0.3,\n",
       " 0.3,\n",
       " 0.3,\n",
       " 0.3,\n",
       " 0.3,\n",
       " 0.3,\n",
       " 0.3,\n",
       " 0.3,\n",
       " 0.3,\n",
       " 0.3,\n",
       " 0.3,\n",
       " 0.3,\n",
       " 0.32,\n",
       " 0.32,\n",
       " 0.32,\n",
       " 0.32,\n",
       " 0.32,\n",
       " 0.33,\n",
       " 0.33,\n",
       " 0.33,\n",
       " 0.33,\n",
       " 0.33,\n",
       " 0.33,\n",
       " 0.34,\n",
       " 0.34,\n",
       " 0.35,\n",
       " 0.35,\n",
       " 0.35,\n",
       " 0.35,\n",
       " 0.37,\n",
       " 0.37,\n",
       " 0.37,\n",
       " 0.37,\n",
       " 0.37,\n",
       " 0.37,\n",
       " 0.37,\n",
       " 0.37,\n",
       " 0.37,\n",
       " 0.39,\n",
       " 0.39,\n",
       " 0.39,\n",
       " 0.39,\n",
       " 0.39,\n",
       " 0.39,\n",
       " 0.4,\n",
       " 0.4,\n",
       " 0.4,\n",
       " 0.4,\n",
       " 0.4,\n",
       " 0.4,\n",
       " 0.4,\n",
       " 0.4,\n",
       " 0.4,\n",
       " 0.42,\n",
       " 0.42,\n",
       " 0.42,\n",
       " 0.42,\n",
       " 0.43,\n",
       " 0.44,\n",
       " 0.44,\n",
       " 0.44,\n",
       " 0.44,\n",
       " 0.45,\n",
       " 0.46,\n",
       " 0.46,\n",
       " 0.46,\n",
       " 0.46,\n",
       " 0.46,\n",
       " 0.47,\n",
       " 0.47,\n",
       " 0.47,\n",
       " 0.47,\n",
       " 0.47,\n",
       " 0.47,\n",
       " 0.47,\n",
       " 0.47,\n",
       " 0.47,\n",
       " 0.47,\n",
       " 0.47,\n",
       " 0.47,\n",
       " 0.47,\n",
       " 0.47,\n",
       " 0.47,\n",
       " 0.47,\n",
       " 0.47,\n",
       " 0.47,\n",
       " 0.47,\n",
       " 0.47,\n",
       " 0.47,\n",
       " 0.47,\n",
       " 0.47,\n",
       " 0.47,\n",
       " 0.47,\n",
       " 0.47,\n",
       " 0.47,\n",
       " 0.47,\n",
       " 0.47,\n",
       " 0.47,\n",
       " 0.47,\n",
       " 0.47,\n",
       " 0.48,\n",
       " 0.48,\n",
       " 0.48,\n",
       " 0.48,\n",
       " 0.48,\n",
       " 0.48,\n",
       " 0.48,\n",
       " 0.48,\n",
       " 0.48,\n",
       " 0.48,\n",
       " 0.48,\n",
       " 0.48,\n",
       " 0.48,\n",
       " 0.48,\n",
       " 0.48,\n",
       " 0.48,\n",
       " 0.48,\n",
       " 0.48,\n",
       " 0.48,\n",
       " 0.48,\n",
       " 0.48,\n",
       " 0.48,\n",
       " 0.48,\n",
       " 0.48,\n",
       " 0.48,\n",
       " 0.48,\n",
       " 0.48,\n",
       " 0.48,\n",
       " 0.48,\n",
       " 0.48,\n",
       " 0.48,\n",
       " 0.48,\n",
       " 0.48,\n",
       " 0.48,\n",
       " 0.48,\n",
       " 0.48,\n",
       " 0.48,\n",
       " 0.48,\n",
       " 0.48,\n",
       " 0.48,\n",
       " 0.48,\n",
       " 0.48,\n",
       " 0.48,\n",
       " 0.49,\n",
       " 0.49,\n",
       " 0.49,\n",
       " 0.49,\n",
       " 0.49,\n",
       " 0.49,\n",
       " 0.49,\n",
       " 0.49,\n",
       " 0.49,\n",
       " 0.49,\n",
       " 0.49,\n",
       " 0.49,\n",
       " 0.49,\n",
       " 0.49,\n",
       " 0.49,\n",
       " 0.49,\n",
       " 0.49,\n",
       " 0.49,\n",
       " 0.49,\n",
       " 0.49,\n",
       " 0.49,\n",
       " 0.49,\n",
       " 0.49,\n",
       " 0.49,\n",
       " 0.49,\n",
       " 0.49,\n",
       " 0.49,\n",
       " 0.49,\n",
       " 0.49,\n",
       " 0.49,\n",
       " 0.49,\n",
       " 0.49,\n",
       " 0.49,\n",
       " 0.49,\n",
       " 0.49,\n",
       " 0.49,\n",
       " 0.49,\n",
       " 0.49,\n",
       " 0.49,\n",
       " 0.49,\n",
       " 0.49,\n",
       " 0.49,\n",
       " 0.49,\n",
       " 0.49,\n",
       " 0.49,\n",
       " 0.49,\n",
       " 0.49,\n",
       " 0.49,\n",
       " 0.49,\n",
       " 0.49,\n",
       " 0.49,\n",
       " 0.49,\n",
       " 0.49,\n",
       " 0.49,\n",
       " 0.49,\n",
       " 0.49,\n",
       " 0.49,\n",
       " 0.49,\n",
       " 0.49,\n",
       " 0.49,\n",
       " 0.49,\n",
       " 0.49,\n",
       " 0.49,\n",
       " 0.49,\n",
       " 0.49,\n",
       " 0.49,\n",
       " 0.49,\n",
       " 0.49,\n",
       " 0.49,\n",
       " 0.49,\n",
       " 0.49,\n",
       " 0.49,\n",
       " 0.49,\n",
       " 0.49,\n",
       " 0.49,\n",
       " 0.5,\n",
       " 0.5,\n",
       " 0.5,\n",
       " 0.5,\n",
       " 0.5,\n",
       " 0.5,\n",
       " 0.5,\n",
       " 0.5,\n",
       " 0.5,\n",
       " 0.5,\n",
       " 0.5,\n",
       " 0.5,\n",
       " 0.5,\n",
       " 0.5,\n",
       " 0.5,\n",
       " 0.5,\n",
       " 0.5,\n",
       " 0.5,\n",
       " 0.5,\n",
       " 0.5,\n",
       " 0.5,\n",
       " 0.5,\n",
       " 0.5,\n",
       " 0.5,\n",
       " 0.5,\n",
       " 0.5,\n",
       " 0.5,\n",
       " 0.5,\n",
       " 0.5,\n",
       " 0.5,\n",
       " 0.5,\n",
       " 0.5,\n",
       " 0.5,\n",
       " 0.5,\n",
       " 0.5,\n",
       " 0.5,\n",
       " 0.5,\n",
       " 0.5,\n",
       " 0.5,\n",
       " 0.5,\n",
       " 0.5,\n",
       " 0.5,\n",
       " 0.5,\n",
       " 0.5,\n",
       " 0.5,\n",
       " 0.5,\n",
       " 0.5,\n",
       " 0.5,\n",
       " 0.5,\n",
       " 0.5,\n",
       " 0.5,\n",
       " 0.5,\n",
       " 0.5,\n",
       " 0.5,\n",
       " 0.5,\n",
       " 0.5,\n",
       " 0.5,\n",
       " 0.5,\n",
       " 0.5,\n",
       " 0.5,\n",
       " 0.5,\n",
       " 0.5,\n",
       " 0.5,\n",
       " 0.5,\n",
       " 0.5,\n",
       " 0.5,\n",
       " 0.5,\n",
       " 0.5,\n",
       " 0.5,\n",
       " 0.5,\n",
       " 0.5,\n",
       " 0.5,\n",
       " 0.5,\n",
       " 0.5,\n",
       " 0.5,\n",
       " 0.5,\n",
       " 0.5,\n",
       " 0.5,\n",
       " 0.5,\n",
       " 0.5,\n",
       " 0.5,\n",
       " 0.5,\n",
       " 0.5,\n",
       " 0.5,\n",
       " 0.5,\n",
       " 0.5,\n",
       " 0.5,\n",
       " 0.5,\n",
       " 0.5,\n",
       " 0.5,\n",
       " 0.5,\n",
       " 0.5,\n",
       " 0.5,\n",
       " 0.5,\n",
       " 0.5,\n",
       " 0.5,\n",
       " 0.5,\n",
       " 0.5,\n",
       " 0.5,\n",
       " 0.5,\n",
       " 0.5,\n",
       " 0.5,\n",
       " 0.51,\n",
       " 0.51,\n",
       " 0.52,\n",
       " 0.52,\n",
       " 0.52,\n",
       " 0.52,\n",
       " 0.52,\n",
       " 0.52,\n",
       " 0.52,\n",
       " 0.52,\n",
       " 0.52,\n",
       " 0.52,\n",
       " 0.52,\n",
       " 0.52,\n",
       " 0.52,\n",
       " 0.52,\n",
       " 0.52,\n",
       " 0.52,\n",
       " 0.52,\n",
       " 0.52,\n",
       " 0.52,\n",
       " 0.52,\n",
       " 0.52,\n",
       " 0.52,\n",
       " 0.52,\n",
       " 0.52,\n",
       " 0.52,\n",
       " 0.52,\n",
       " 0.52,\n",
       " 0.52,\n",
       " 0.52,\n",
       " 0.52,\n",
       " 0.52,\n",
       " 0.52,\n",
       " 0.52,\n",
       " 0.52,\n",
       " 0.52,\n",
       " 0.52,\n",
       " 0.52,\n",
       " 0.52,\n",
       " 0.52,\n",
       " 0.52,\n",
       " 0.52,\n",
       " 0.52,\n",
       " 0.52,\n",
       " 0.52,\n",
       " 0.52,\n",
       " 0.52,\n",
       " 0.52,\n",
       " 0.52,\n",
       " 0.52,\n",
       " 0.52,\n",
       " 0.52,\n",
       " 0.52,\n",
       " 0.52,\n",
       " 0.52,\n",
       " 0.52,\n",
       " 0.52,\n",
       " 0.52,\n",
       " 0.52,\n",
       " 0.52,\n",
       " 0.52,\n",
       " 0.52,\n",
       " 0.52,\n",
       " 0.52,\n",
       " 0.52,\n",
       " 0.52,\n",
       " 0.52,\n",
       " 0.52,\n",
       " 0.52,\n",
       " 0.52,\n",
       " 0.52,\n",
       " 0.52,\n",
       " 0.52,\n",
       " 0.52,\n",
       " 0.52,\n",
       " 0.52,\n",
       " 0.52,\n",
       " 0.52,\n",
       " 0.52,\n",
       " 0.52,\n",
       " 0.52,\n",
       " 0.52,\n",
       " 0.52,\n",
       " 0.52,\n",
       " 0.52,\n",
       " 0.54,\n",
       " 0.54,\n",
       " 0.54,\n",
       " 0.54,\n",
       " 0.54,\n",
       " 0.54,\n",
       " 0.54,\n",
       " 0.54,\n",
       " 0.54,\n",
       " 0.55,\n",
       " 0.55,\n",
       " 0.55,\n",
       " 0.56,\n",
       " 0.57,\n",
       " 0.57,\n",
       " 0.57,\n",
       " 0.57,\n",
       " 0.57,\n",
       " 0.57,\n",
       " 0.57,\n",
       " 0.57,\n",
       " 0.57,\n",
       " 0.57,\n",
       " 0.57,\n",
       " 0.57,\n",
       " 0.57,\n",
       " 0.57,\n",
       " 0.57,\n",
       " 0.57,\n",
       " 0.57,\n",
       " 0.57,\n",
       " 0.57,\n",
       " 0.57,\n",
       " 0.57,\n",
       " 0.57,\n",
       " 0.57,\n",
       " 0.57,\n",
       " 0.57,\n",
       " 0.57,\n",
       " 0.57,\n",
       " 0.57,\n",
       " 0.57,\n",
       " 0.57,\n",
       " 0.57,\n",
       " 0.57,\n",
       " 0.57,\n",
       " 0.58,\n",
       " 0.58,\n",
       " 0.58,\n",
       " 0.58,\n",
       " 0.58,\n",
       " 0.58,\n",
       " 0.58,\n",
       " 0.58,\n",
       " 0.58,\n",
       " 0.58,\n",
       " 0.58,\n",
       " 0.58,\n",
       " 0.58,\n",
       " 0.58,\n",
       " 0.58,\n",
       " 0.58,\n",
       " 0.58,\n",
       " 0.59,\n",
       " 0.59,\n",
       " 0.59,\n",
       " 0.59,\n",
       " 0.59,\n",
       " 0.59,\n",
       " 0.59,\n",
       " 0.59,\n",
       " 0.59,\n",
       " 0.59,\n",
       " 0.59,\n",
       " 0.59,\n",
       " 0.59,\n",
       " 0.59,\n",
       " 0.59,\n",
       " 0.59,\n",
       " 0.59,\n",
       " 0.59,\n",
       " 0.59,\n",
       " 0.6,\n",
       " 0.6,\n",
       " 0.6,\n",
       " 0.6,\n",
       " 0.6,\n",
       " 0.6,\n",
       " 0.6,\n",
       " 0.6,\n",
       " 0.6,\n",
       " 0.6,\n",
       " 0.6,\n",
       " 0.6,\n",
       " 0.6,\n",
       " 0.61,\n",
       " 0.61,\n",
       " 0.62,\n",
       " 0.62,\n",
       " 0.62,\n",
       " 0.62,\n",
       " 0.62,\n",
       " 0.62,\n",
       " 0.62,\n",
       " 0.62,\n",
       " 0.62,\n",
       " 0.62,\n",
       " 0.62,\n",
       " 0.62,\n",
       " 0.62,\n",
       " 0.64,\n",
       " 0.64,\n",
       " 0.64,\n",
       " 0.64,\n",
       " 0.64,\n",
       " 0.64,\n",
       " 0.64,\n",
       " 0.64,\n",
       " 0.64,\n",
       " 0.64,\n",
       " 0.64,\n",
       " 0.64,\n",
       " 0.64,\n",
       " 0.64,\n",
       " 0.64,\n",
       " 0.64,\n",
       " 0.64,\n",
       " 0.64,\n",
       " 0.64,\n",
       " 0.64,\n",
       " 0.64,\n",
       " 0.64,\n",
       " 0.64,\n",
       " 0.64,\n",
       " 0.64,\n",
       " 0.64,\n",
       " 0.64,\n",
       " 0.64,\n",
       " 0.64,\n",
       " 0.64,\n",
       " 0.64,\n",
       " 0.64,\n",
       " 0.64,\n",
       " 0.64,\n",
       " 0.64,\n",
       " 0.64,\n",
       " 0.64,\n",
       " 0.64,\n",
       " 0.64,\n",
       " 0.64,\n",
       " 0.64,\n",
       " 0.64,\n",
       " 0.64,\n",
       " 0.64,\n",
       " 0.64,\n",
       " 0.64,\n",
       " 0.64,\n",
       " 0.64,\n",
       " 0.64,\n",
       " 0.64,\n",
       " 0.64,\n",
       " 0.64,\n",
       " 0.64,\n",
       " 0.64,\n",
       " 0.64,\n",
       " 0.64,\n",
       " 0.64,\n",
       " 0.64,\n",
       " 0.64,\n",
       " 0.64,\n",
       " 0.64,\n",
       " 0.64,\n",
       " 0.64,\n",
       " 0.64,\n",
       " 0.64,\n",
       " 0.64,\n",
       " 0.64,\n",
       " 0.65,\n",
       " 0.65,\n",
       " 0.65,\n",
       " 0.65,\n",
       " 0.65,\n",
       " 0.65,\n",
       " 0.65,\n",
       " 0.65,\n",
       " 0.66,\n",
       " 0.66,\n",
       " 0.66,\n",
       " 0.66,\n",
       " 0.66,\n",
       " 0.67,\n",
       " 0.67,\n",
       " 0.67,\n",
       " 0.67,\n",
       " 0.67,\n",
       " 0.67,\n",
       " 0.67,\n",
       " 0.67,\n",
       " 0.67,\n",
       " 0.67,\n",
       " 0.67,\n",
       " 0.67,\n",
       " 0.67,\n",
       " 0.67,\n",
       " 0.67,\n",
       " 0.67,\n",
       " 0.67,\n",
       " 0.67,\n",
       " 0.67,\n",
       " 0.67,\n",
       " 0.67,\n",
       " 0.67,\n",
       " 0.67,\n",
       " 0.67,\n",
       " 0.67,\n",
       " 0.67,\n",
       " 0.67,\n",
       " 0.67,\n",
       " 0.67,\n",
       " 0.67,\n",
       " 0.67,\n",
       " 0.67,\n",
       " 0.68,\n",
       " 0.68,\n",
       " 0.68,\n",
       " 0.68,\n",
       " 0.68,\n",
       " 0.68,\n",
       " 0.68,\n",
       " 0.68,\n",
       " 0.68,\n",
       " 0.68,\n",
       " 0.68,\n",
       " 0.68,\n",
       " 0.68,\n",
       " 0.68,\n",
       " 0.68,\n",
       " 0.68,\n",
       " 0.68,\n",
       " 0.68,\n",
       " 0.68,\n",
       " 0.68,\n",
       " 0.68,\n",
       " 0.68,\n",
       " 0.68,\n",
       " 0.68,\n",
       " 0.68,\n",
       " 0.68,\n",
       " 0.68,\n",
       " 0.68,\n",
       " 0.68,\n",
       " 0.68,\n",
       " 0.68,\n",
       " 0.68,\n",
       " 0.68,\n",
       " 0.68,\n",
       " 0.68,\n",
       " 0.68,\n",
       " 0.68,\n",
       " 0.68,\n",
       " 0.68,\n",
       " 0.68,\n",
       " 0.68,\n",
       " 0.68,\n",
       " 0.68,\n",
       " 0.68,\n",
       " 0.68,\n",
       " 0.68,\n",
       " 0.68,\n",
       " 0.68,\n",
       " 0.69,\n",
       " 0.69,\n",
       " 0.69,\n",
       " 0.69,\n",
       " 0.69,\n",
       " 0.69,\n",
       " 0.69,\n",
       " 0.69,\n",
       " 0.69,\n",
       " 0.69,\n",
       " 0.69,\n",
       " 0.69,\n",
       " 0.69,\n",
       " 0.69,\n",
       " 0.69,\n",
       " 0.69,\n",
       " 0.69,\n",
       " 0.69,\n",
       " 0.69,\n",
       " 0.69,\n",
       " 0.69,\n",
       " 0.69,\n",
       " 0.69,\n",
       " 0.7,\n",
       " 0.7,\n",
       " 0.7,\n",
       " 0.7,\n",
       " 0.7,\n",
       " 0.7,\n",
       " 0.7,\n",
       " 0.7,\n",
       " 0.7,\n",
       " 0.7,\n",
       " 0.72,\n",
       " 0.72,\n",
       " 0.72,\n",
       " 0.72,\n",
       " 0.72,\n",
       " 0.72,\n",
       " 0.72,\n",
       " 0.73,\n",
       " 0.73,\n",
       " 0.73,\n",
       " 0.73,\n",
       " 0.73,\n",
       " 0.73,\n",
       " 0.73,\n",
       " 0.74,\n",
       " 0.74,\n",
       " 0.74,\n",
       " 0.74,\n",
       " 0.74,\n",
       " 0.74,\n",
       " 0.74,\n",
       " 0.74,\n",
       " 0.74,\n",
       " 0.74,\n",
       " 0.74,\n",
       " 0.74,\n",
       " 0.74,\n",
       " 0.74,\n",
       " 0.74,\n",
       " 0.74,\n",
       " 0.74,\n",
       " 0.74,\n",
       " 0.75,\n",
       " 0.75,\n",
       " 0.75,\n",
       " 0.75,\n",
       " 0.75,\n",
       " 0.75,\n",
       " 0.75,\n",
       " 0.75,\n",
       " 0.75,\n",
       " 0.75,\n",
       " 0.75,\n",
       " 0.75,\n",
       " 0.75,\n",
       " 0.75,\n",
       " 0.75,\n",
       " 0.75,\n",
       " 0.75,\n",
       " 0.75,\n",
       " 0.75,\n",
       " 0.75,\n",
       " 0.75,\n",
       " 0.75,\n",
       " 0.75,\n",
       " 0.75,\n",
       " 0.75,\n",
       " 0.75,\n",
       " 0.75,\n",
       " 0.76,\n",
       " 0.76,\n",
       " 0.76,\n",
       " 0.76,\n",
       " 0.76,\n",
       " 0.76,\n",
       " 0.76,\n",
       " 0.77,\n",
       " 0.77,\n",
       " 0.77,\n",
       " 0.78,\n",
       " 0.78,\n",
       " 0.78,\n",
       " 0.78,\n",
       " 0.78,\n",
       " 0.78,\n",
       " 0.78,\n",
       " 0.78,\n",
       " 0.78,\n",
       " 0.78,\n",
       " 0.78,\n",
       " 0.78,\n",
       " 0.78,\n",
       " 0.78,\n",
       " 0.78,\n",
       " 0.78,\n",
       " 0.78,\n",
       " 0.78,\n",
       " 0.78,\n",
       " 0.78,\n",
       " 0.78,\n",
       " 0.78,\n",
       " 0.78,\n",
       " 0.78,\n",
       " 0.78,\n",
       " 0.78,\n",
       " 0.78,\n",
       " 0.78,\n",
       " 0.78,\n",
       " 0.78,\n",
       " 0.78,\n",
       " 0.78,\n",
       " 0.78,\n",
       " 0.78,\n",
       " 0.78,\n",
       " 0.78,\n",
       " 0.78,\n",
       " 0.78,\n",
       " 0.78,\n",
       " 0.78,\n",
       " 0.78,\n",
       " 0.78,\n",
       " 0.78,\n",
       " 0.78,\n",
       " 0.79,\n",
       " 0.79,\n",
       " 0.79,\n",
       " 0.79,\n",
       " 0.79,\n",
       " 0.79,\n",
       " 0.79,\n",
       " 0.79,\n",
       " 0.79,\n",
       " 0.79,\n",
       " 0.79,\n",
       " 0.79,\n",
       " 0.79,\n",
       " 0.79,\n",
       " 0.79,\n",
       " 0.79,\n",
       " 0.79,\n",
       " 0.79,\n",
       " 0.79,\n",
       " 0.79,\n",
       " 0.79,\n",
       " 0.79,\n",
       " 0.79,\n",
       " 0.79,\n",
       " 0.79,\n",
       " 0.79,\n",
       " 0.79,\n",
       " 0.79,\n",
       " 0.79,\n",
       " 0.8,\n",
       " 0.8,\n",
       " 0.82,\n",
       " 0.82,\n",
       " 0.82,\n",
       " 0.82,\n",
       " 0.82,\n",
       " 0.82,\n",
       " 0.82,\n",
       " 0.82,\n",
       " 0.84,\n",
       " 0.84,\n",
       " 0.84,\n",
       " 0.84,\n",
       " 0.84,\n",
       " 0.84,\n",
       " 0.84,\n",
       " 0.84,\n",
       " 0.84,\n",
       " 0.84,\n",
       " 0.84,\n",
       " 0.84,\n",
       " 0.84,\n",
       " 0.84,\n",
       " 0.84,\n",
       " 0.84,\n",
       " 0.84,\n",
       " 0.84,\n",
       " 0.84,\n",
       " 0.84,\n",
       " 0.84,\n",
       " 0.85,\n",
       " 0.85,\n",
       " 0.85,\n",
       " 0.85,\n",
       " 0.86,\n",
       " 0.86,\n",
       " 0.86,\n",
       " 0.86,\n",
       " 0.86,\n",
       " 0.86,\n",
       " 0.86,\n",
       " 0.86,\n",
       " 0.86,\n",
       " 0.86,\n",
       " 0.86,\n",
       " 0.86,\n",
       " 0.86,\n",
       " 0.86,\n",
       " 0.86,\n",
       " 0.86,\n",
       " 0.86,\n",
       " 0.86,\n",
       " 0.86,\n",
       " 0.86,\n",
       " 0.86,\n",
       " 0.86,\n",
       " 0.86,\n",
       " 0.86,\n",
       " 0.86,\n",
       " 0.86,\n",
       " 0.86,\n",
       " 0.86,\n",
       " 0.86,\n",
       " 0.86,\n",
       " 0.86,\n",
       " 0.86,\n",
       " 0.86,\n",
       " 0.86,\n",
       " 0.86,\n",
       " 0.86,\n",
       " 0.86,\n",
       " 0.86,\n",
       " 0.86,\n",
       " 0.86,\n",
       " 0.86,\n",
       " 0.86,\n",
       " 0.86,\n",
       " 0.86,\n",
       " 0.86,\n",
       " 0.86,\n",
       " 0.86,\n",
       " 0.86,\n",
       " 0.86,\n",
       " 0.86,\n",
       " 0.86,\n",
       " 0.86,\n",
       " ...]"
      ]
     },
     "execution_count": 423,
     "metadata": {},
     "output_type": "execute_result"
    }
   ],
   "source": [
    "## Checking to see if there are any 0 value transcactions left. (None remain, output is long so I commented out code)\n",
    "## sorted(t['FINAL_SALE']) "
   ]
  },
  {
   "cell_type": "code",
   "execution_count": 424,
   "id": "019c6234-8377-4fc3-9e53-b7f2d350e6df",
   "metadata": {},
   "outputs": [],
   "source": [
    "## Using the IQR method with a multiplier of 2 (vs. 1.5) to determine the outliers\n",
    "Q1 = t['FINAL_SALE'].quantile(0.25)\n",
    "Q3 = t['FINAL_SALE'].quantile(0.75)\n",
    "IQR = Q3 - Q1\n",
    "\n",
    "lower_bound = Q1 - 2 * IQR\n",
    "upper_bound = Q3 + 2 * IQR\n",
    "\n",
    "outliersFS = t[(t['FINAL_SALE'] < lower_bound) | (t['FINAL_SALE'] > upper_bound)]"
   ]
  },
  {
   "cell_type": "code",
   "execution_count": 425,
   "id": "f030c5d8-acad-4585-9585-d8f9d28c7735",
   "metadata": {},
   "outputs": [],
   "source": [
    "## Removing the outlier observations from the FINAL_SALE data.\n",
    "t = t[~t.isin(outliersFS)].dropna()"
   ]
  },
  {
   "cell_type": "code",
   "execution_count": 430,
   "id": "f999a7ea-469d-4ca9-9458-4042b5babd30",
   "metadata": {},
   "outputs": [
    {
     "data": {
      "text/plain": [
       "<Axes: xlabel='FINAL_QUANTITY', ylabel='Count'>"
      ]
     },
     "execution_count": 430,
     "metadata": {},
     "output_type": "execute_result"
    },
    {
     "data": {
      "image/png": "[encoded data removed]",
      "text/plain": [
       "<Figure size 640x480 with 1 Axes>"
      ]
     },
     "metadata": {},
     "output_type": "display_data"
    }
   ],
   "source": [
    "sns.histplot(t['FINAL_QUANTITY'], bins=5)"
   ]
  },
  {
   "cell_type": "code",
   "execution_count": 431,
   "id": "e0484d53-bd81-4bd5-8b6a-e0555866a935",
   "metadata": {},
   "outputs": [
    {
     "data": {
      "text/plain": [
       "<Axes: xlabel='FINAL_SALE', ylabel='Count'>"
      ]
     },
     "execution_count": 431,
     "metadata": {},
     "output_type": "execute_result"
    },
    {
     "data": {
      "image/png": "[encoded data removed]",
      "text/plain": [
       "<Figure size 640x480 with 1 Axes>"
      ]
     },
     "metadata": {},
     "output_type": "display_data"
    }
   ],
   "source": [
    "sns.histplot(t['FINAL_SALE'], bins=20)"
   ]
  },
  {
   "cell_type": "code",
   "execution_count": null,
   "id": "7f090e19-a4d6-4fc6-b8cf-67c9dbd14377",
   "metadata": {},
   "outputs": [],
   "source": [
    "## The distribution of the numeric variables in these histograms looks much better than it did before the outliers \n",
    "## were removed. "
   ]
  },
  {
   "cell_type": "code",
   "execution_count": 355,
   "id": "7f95ed64-9f8a-4c19-b947-0061157da641",
   "metadata": {},
   "outputs": [],
   "source": [
    "## After cleaning up the data, it seems to be in a great place for the analysis that needs to be done on it! The specific\n",
    "## analysis that's being performed will dictate the pieces of the dataset that require modification. "
   ]
  },
  {
   "cell_type": "code",
   "execution_count": 356,
   "id": "9973921c-526a-4309-a321-5a095fbbed6f",
   "metadata": {},
   "outputs": [],
   "source": [
    "## Now, I will write these cleaned dataframes back to CSV files so I can access them via SQL.\n",
    "p.to_csv(r'C:\\Users\\grace\\Downloads\\Fetch_TakeHome\\PRODUCTS_UPDATED.csv', index=False)\n",
    "t.to_csv(r'C:\\Users\\grace\\Downloads\\Fetch_TakeHome\\TRANSACTION_UPDATED.csv', index=False)\n",
    "u.to_csv(r'C:\\Users\\grace\\Downloads\\Fetch_TakeHome\\USER_UPDATED.csv', index=False)"
   ]
  }
 ],
 "metadata": {
  "kernelspec": {
   "display_name": "Python 3 (ipykernel)",
   "language": "python",
   "name": "python3"
  },
  "language_info": {
   "codemirror_mode": {
    "name": "ipython",
    "version": 3
   },
   "file_extension": ".py",
   "mimetype": "text/x-python",
   "name": "python",
   "nbconvert_exporter": "python",
   "pygments_lexer": "ipython3",
   "version": "3.13.3"
  }
 },
 "nbformat": 4,
 "nbformat_minor": 5
}
